{
 "cells": [
  {
   "cell_type": "markdown",
   "id": "8e53aefc",
   "metadata": {},
   "source": [
    "# Practical-1\n",
    "Write a program to implement the following using operators in Python. start no=110, result=550. \n",
    "Store operators(+,-,*,/,1/x,%,// etc.) in a list. Take a random operator from the list, apply the operation on the start no and result. Store answer in result variable. Take input for a random operator till it is valid input.\n",
    "[Use \n",
    "import random\n",
    "print(random.randint(3, 9))\n",
    "]"
   ]
  },
  {
   "cell_type": "code",
   "execution_count": 1,
   "id": "5b46354c",
   "metadata": {},
   "outputs": [
    {
     "name": "stdout",
     "output_type": "stream",
     "text": [
      "Result = 4403\n",
      "Result = 0.9997729336966394\n",
      "Invalid Operator.\n"
     ]
    }
   ],
   "source": [
    "import random\n",
    "\n",
    "startno,result=4404,8807\n",
    "list=['+','-','*','/','%','//']\n",
    "\n",
    "while (True):\n",
    "    r=random.randint(0,9)\n",
    "    if(r>=len(list)):\n",
    "        print(\"Invalid Operator.\")\n",
    "        break\n",
    "    else:\n",
    "        rand=str(result)+list[r]+str(startno)\n",
    "        result=eval(rand)\n",
    "        print(\"Result =\",result)"
   ]
  },
  {
   "cell_type": "markdown",
   "id": "9f2787e8",
   "metadata": {},
   "source": [
    "# Practical-2\n",
    "Write a program to create the following pattern. Take input for n. \n",
    "for n=5. [ord()-for character to ascii, chr()-for ascii to char]\n",
    "A\n",
    "AB\n",
    "ABC\n",
    "ABCDEF\n",
    "ABCDEFGHIJKL"
   ]
  },
  {
   "cell_type": "code",
   "execution_count": 2,
   "id": "31615c44",
   "metadata": {},
   "outputs": [
    {
     "name": "stdout",
     "output_type": "stream",
     "text": [
      "Enter value of n : 5\n",
      "A\n",
      "AB\n",
      "ABC\n",
      "ABCDEF\n",
      "ABCDEFGHIJKL\n"
     ]
    }
   ],
   "source": [
    "n=int(input(\"Enter value of n : \"))\n",
    "if n==1:\n",
    "    print(\"A\")\n",
    "    exit()\n",
    "elif n==2:\n",
    "    print(\"A\\nAB\")\n",
    "    exit()\n",
    "else:\n",
    "    character=\"ABC\"\n",
    "    print(\"A\\nAB\\n\"+character)\n",
    "    previous=3\n",
    "    for i in range(previous,n):\n",
    "        length = (len(character)*2)\n",
    "        for previous in range(len(character), length):\n",
    "            last=ord(character[-1])+1\n",
    "            character+=chr(last)\n",
    "        print(character)"
   ]
  }
 ],
 "metadata": {
  "kernelspec": {
   "display_name": "Python 3 (ipykernel)",
   "language": "python",
   "name": "python3"
  },
  "language_info": {
   "codemirror_mode": {
    "name": "ipython",
    "version": 3
   },
   "file_extension": ".py",
   "mimetype": "text/x-python",
   "name": "python",
   "nbconvert_exporter": "python",
   "pygments_lexer": "ipython3",
   "version": "3.8.10"
  }
 },
 "nbformat": 4,
 "nbformat_minor": 5
}
