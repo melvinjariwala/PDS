{
 "cells": [
  {
   "cell_type": "markdown",
   "id": "f5585386",
   "metadata": {},
   "source": [
    "<center>\n",
    "<td><tr><img src=\"https://navyugtrust.org/img/icons/trust_logo.png\" width=90 height=90></tr>\n",
    "<tr><img src=\"https://ckpcet.ac.in/img/logo.svg\"\n",
    "alt=\"CKPCET\" width=100 height=100></tr></td>\n",
    "Name : Melvin Divyeshkumar Jariwala<br>\n",
    "Enrollment No : 200090107131<br>\n",
    "Div. : B<br>\n",
    "Subject : Python for Data Science<br>\n",
    "Subject Code : 3150713<br>\n",
    "Data Set : Netflix Movies and TV Shows<br>\n",
    "Data Set Link : https://www.kaggle.com/datasets/shivamb/netflix-shows<br>\n",
    "Academic Year : 2022-2023<br>\n",
    "Subject Coordinator : Dr. Ami Tusharkant Choksi</center>"
   ]
  },
  {
   "cell_type": "markdown",
   "id": "8e53aefc",
   "metadata": {},
   "source": [
    "# <u>Practical-1</u> :\n",
    "Write a program to implement the following using operators in Python. start no=110, result=550. \n",
    "Store operators(+,-,*,/,1/x,%,// etc.) in a list. Take a random operator from the list, apply the operation on the start no and result. Store answer in result variable. Take input for a random operator till it is valid input.\n",
    "[Use <br>\n",
    "import random<br>\n",
    "print(random.randint(3, 9))<br>\n",
    "]"
   ]
  },
  {
   "cell_type": "code",
   "execution_count": 1,
   "id": "5b46354c",
   "metadata": {},
   "outputs": [
    {
     "name": "stdout",
     "output_type": "stream",
     "text": [
      "Start No. : 4404 \n",
      "Operator : % \n",
      "Result(Initial) : 8807\n",
      "Result = 4404 \n",
      "\n",
      "Start No. : 4404 \n",
      "Operator : // \n",
      "Result(Initial) : 4404\n",
      "Result = 1 \n",
      "\n",
      "Invalid Operator.\n"
     ]
    }
   ],
   "source": [
    "import random\n",
    "\n",
    "startno,result=4404,8807\n",
    "list=['+','-','*','/','%','//']\n",
    "\n",
    "while (True):\n",
    "    r=random.randint(0,9)\n",
    "    if(r>=len(list)):\n",
    "        print(\"Invalid Operator.\")\n",
    "        break\n",
    "    else:\n",
    "        print(\"Start No. :\",  startno,\"\\nOperator :\",list[r],\"\\nResult(Initial) :\", result)\n",
    "        rand=str(startno)+list[r]+str(result)\n",
    "        result=eval(rand)\n",
    "        print(\"Result =\",result,\"\\n\")"
   ]
  },
  {
   "cell_type": "markdown",
   "id": "9f2787e8",
   "metadata": {},
   "source": [
    "# <u>Practical-2</u> :\n",
    "Write a program to create the following pattern. Take input for n.<br> \n",
    "for n=5. [ord()-for character to ascii, chr()-for ascii to char]<br>\n",
    "A<br>\n",
    "AB<br>\n",
    "ABC<br>\n",
    "ABCDEF<br>\n",
    "ABCDEFGHIJKL<br>"
   ]
  },
  {
   "cell_type": "code",
   "execution_count": 2,
   "id": "31615c44",
   "metadata": {},
   "outputs": [
    {
     "name": "stdout",
     "output_type": "stream",
     "text": [
      "Enter value of n : 5\n",
      "A\n",
      "AB\n",
      "ABC\n",
      "ABCDEF\n",
      "ABCDEFGHIJKL\n"
     ]
    }
   ],
   "source": [
    "n=int(input(\"Enter value of n : \"))\n",
    "l=[1,2]\n",
    "\n",
    "for i in range(n):\n",
    "    l.append(sum(l))\n",
    "    num=65\n",
    "    for j in range(l[i]): \n",
    "        print(chr(num),end=\"\")\n",
    "        num+=1\n",
    "    print(\"\\r\")"
   ]
  }
 ],
 "metadata": {
  "kernelspec": {
   "display_name": "Python 3 (ipykernel)",
   "language": "python",
   "name": "python3"
  },
  "language_info": {
   "codemirror_mode": {
    "name": "ipython",
    "version": 3
   },
   "file_extension": ".py",
   "mimetype": "text/x-python",
   "name": "python",
   "nbconvert_exporter": "python",
   "pygments_lexer": "ipython3",
   "version": "3.8.10"
  }
 },
 "nbformat": 4,
 "nbformat_minor": 5
}
